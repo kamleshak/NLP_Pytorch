{
  "nbformat": 4,
  "nbformat_minor": 0,
  "metadata": {
    "colab": {
      "name": "END2.0 Session 1.ipynb",
      "provenance": []
    },
    "kernelspec": {
      "name": "python3",
      "display_name": "Python 3"
    },
    "language_info": {
      "name": "python"
    }
  },
  "cells": [
    {
      "cell_type": "code",
      "metadata": {
        "colab": {
          "base_uri": "https://localhost:8080/"
        },
        "id": "GC_6PeobwwkH",
        "outputId": "f0c620c5-df69-4ec0-b0b7-d43c81c9cd55"
      },
      "source": [
        "import torch\n",
        "from torch.autograd import Variable\n",
        "import torch.nn as nn\n",
        "import torch.nn.functional as F\n",
        "import torch.optim as optim\n",
        "import numpy as np\n",
        "import matplotlib.pyplot as plt\n",
        "%matplotlib inline\n",
        "torch.manual_seed(2)"
      ],
      "execution_count": 1,
      "outputs": [
        {
          "output_type": "execute_result",
          "data": {
            "text/plain": [
              "<torch._C.Generator at 0x7fcf90e23a90>"
            ]
          },
          "metadata": {},
          "execution_count": 1
        }
      ]
    },
    {
      "cell_type": "code",
      "metadata": {
        "id": "bL64bMTkw2GP"
      },
      "source": [
        "X = torch.Tensor([[0,0], [0,1], [1,0], [1,1]])\n",
        "Y = torch.Tensor([0, 1, 1, 0]).view(-1,1)"
      ],
      "execution_count": 2,
      "outputs": []
    },
    {
      "cell_type": "code",
      "metadata": {
        "id": "aC82kEAIw3Wf"
      },
      "source": [
        "class XOR(nn.Module):\n",
        "    def __init__(self, input_dim = 2, output_dim=1):\n",
        "        super(XOR, self).__init__()\n",
        "        self.lin1 = nn.Linear(input_dim, 2)\n",
        "        self.lin2 = nn.Linear(2, 3)\n",
        "        self.lin3 = nn.Linear(3, 4)\n",
        "        self.lin4 = nn.Linear(4, 2)\n",
        "        self.lin5 = nn.Linear(2, output_dim)\n",
        "    \n",
        "    def forward(self, x):\n",
        "        x = self.lin1(x)\n",
        "        x = F.tanh(x)\n",
        "        x = self.lin2(x)\n",
        "        x = F.tanh(x)\n",
        "        x = self.lin3(x)\n",
        "        x = F.tanh(x)\n",
        "        x = self.lin4(x)\n",
        "        x = F.tanh(x)\n",
        "        x = self.lin5(x)\n",
        "        return x"
      ],
      "execution_count": 3,
      "outputs": []
    },
    {
      "cell_type": "code",
      "metadata": {
        "colab": {
          "base_uri": "https://localhost:8080/"
        },
        "id": "8gQIQExYw65K",
        "outputId": "159535e3-e5b0-4977-e1f0-6ff3977cb920"
      },
      "source": [
        "model = XOR()\n",
        "print(model)\n",
        "from torchsummary import summary\n",
        "summary(model, (2,2))"
      ],
      "execution_count": 4,
      "outputs": [
        {
          "output_type": "stream",
          "name": "stdout",
          "text": [
            "XOR(\n",
            "  (lin1): Linear(in_features=2, out_features=2, bias=True)\n",
            "  (lin2): Linear(in_features=2, out_features=3, bias=True)\n",
            "  (lin3): Linear(in_features=3, out_features=4, bias=True)\n",
            "  (lin4): Linear(in_features=4, out_features=2, bias=True)\n",
            "  (lin5): Linear(in_features=2, out_features=1, bias=True)\n",
            ")\n",
            "----------------------------------------------------------------\n",
            "        Layer (type)               Output Shape         Param #\n",
            "================================================================\n",
            "            Linear-1                 [-1, 2, 2]               6\n",
            "            Linear-2                 [-1, 2, 3]               9\n",
            "            Linear-3                 [-1, 2, 4]              16\n",
            "            Linear-4                 [-1, 2, 2]              10\n",
            "            Linear-5                 [-1, 2, 1]               3\n",
            "================================================================\n",
            "Total params: 44\n",
            "Trainable params: 44\n",
            "Non-trainable params: 0\n",
            "----------------------------------------------------------------\n",
            "Input size (MB): 0.00\n",
            "Forward/backward pass size (MB): 0.00\n",
            "Params size (MB): 0.00\n",
            "Estimated Total Size (MB): 0.00\n",
            "----------------------------------------------------------------\n"
          ]
        },
        {
          "output_type": "stream",
          "name": "stderr",
          "text": [
            "/usr/local/lib/python3.7/dist-packages/torch/nn/functional.py:1794: UserWarning: nn.functional.tanh is deprecated. Use torch.tanh instead.\n",
            "  warnings.warn(\"nn.functional.tanh is deprecated. Use torch.tanh instead.\")\n"
          ]
        }
      ]
    },
    {
      "cell_type": "code",
      "metadata": {
        "id": "yeotEq19x6XF"
      },
      "source": [
        "def weights_init(model):\n",
        "    for m in model.modules():\n",
        "        if isinstance(m, nn.Linear):\n",
        "            # initialize the weight tensor, here we use a normal distribution\n",
        "            m.weight.data.normal_(0, 1)\n",
        "\n",
        "weights_init(model)"
      ],
      "execution_count": 5,
      "outputs": []
    },
    {
      "cell_type": "code",
      "metadata": {
        "id": "WrD_sNzLx78e"
      },
      "source": [
        "loss_func = nn.L1Loss()"
      ],
      "execution_count": 6,
      "outputs": []
    },
    {
      "cell_type": "code",
      "metadata": {
        "id": "-zvbrMd2x_lA"
      },
      "source": [
        "optimizer = optim.SGD(model.parameters(), lr=0.02, momentum=0.9)\n"
      ],
      "execution_count": 7,
      "outputs": []
    },
    {
      "cell_type": "code",
      "metadata": {
        "colab": {
          "base_uri": "https://localhost:8080/"
        },
        "id": "q7tWa3D7yA5X",
        "outputId": "22599dda-1881-4064-90fa-f715ed1fe322"
      },
      "source": [
        "epochs = 2001\n",
        "steps = X.size(0)\n",
        "for i in range(epochs):\n",
        "    for j in range(steps):\n",
        "        data_point = np.random.randint(X.size(0))\n",
        "        x_var = Variable(X[data_point], requires_grad=False)\n",
        "        y_var = Variable(Y[data_point], requires_grad=False)\n",
        "        \n",
        "        optimizer.zero_grad()\n",
        "        y_hat = model(x_var)\n",
        "        loss = loss_func.forward(y_hat, y_var)\n",
        "        loss.backward()\n",
        "        optimizer.step()\n",
        "        \n",
        "    if i % 50 == 0:\n",
        "        print( \"Epoch: {0}, Loss: {1}, \".format(i, loss.data.numpy()))"
      ],
      "execution_count": 9,
      "outputs": [
        {
          "output_type": "stream",
          "name": "stderr",
          "text": [
            "/usr/local/lib/python3.7/dist-packages/torch/nn/functional.py:1794: UserWarning: nn.functional.tanh is deprecated. Use torch.tanh instead.\n",
            "  warnings.warn(\"nn.functional.tanh is deprecated. Use torch.tanh instead.\")\n"
          ]
        },
        {
          "output_type": "stream",
          "name": "stdout",
          "text": [
            "Epoch: 0, Loss: 0.42071080207824707, \n",
            "Epoch: 50, Loss: 0.032688140869140625, \n",
            "Epoch: 100, Loss: 0.2722777724266052, \n",
            "Epoch: 150, Loss: 0.06950809061527252, \n",
            "Epoch: 200, Loss: 0.03984830155968666, \n",
            "Epoch: 250, Loss: 0.058124542236328125, \n",
            "Epoch: 300, Loss: 0.3876359462738037, \n",
            "Epoch: 350, Loss: 0.036400556564331055, \n",
            "Epoch: 400, Loss: 0.04207819700241089, \n",
            "Epoch: 450, Loss: 0.09655502438545227, \n",
            "Epoch: 500, Loss: 0.05520772933959961, \n",
            "Epoch: 550, Loss: 0.061948418617248535, \n",
            "Epoch: 600, Loss: 0.018756181001663208, \n",
            "Epoch: 650, Loss: 0.05191358923912048, \n",
            "Epoch: 700, Loss: 0.013327717781066895, \n",
            "Epoch: 750, Loss: 0.016246676445007324, \n",
            "Epoch: 800, Loss: 0.1830587387084961, \n",
            "Epoch: 850, Loss: 0.004637002944946289, \n",
            "Epoch: 900, Loss: 0.013152241706848145, \n",
            "Epoch: 950, Loss: 0.1346784234046936, \n",
            "Epoch: 1000, Loss: 0.09823811054229736, \n",
            "Epoch: 1050, Loss: 0.1061398983001709, \n",
            "Epoch: 1100, Loss: 0.10270214080810547, \n",
            "Epoch: 1150, Loss: 0.13210979104042053, \n",
            "Epoch: 1200, Loss: 0.10114693641662598, \n",
            "Epoch: 1250, Loss: 0.0042961835861206055, \n",
            "Epoch: 1300, Loss: 0.1392449140548706, \n",
            "Epoch: 1350, Loss: 0.15976452827453613, \n",
            "Epoch: 1400, Loss: 0.3963235318660736, \n",
            "Epoch: 1450, Loss: 0.584879994392395, \n",
            "Epoch: 1500, Loss: 0.014556288719177246, \n",
            "Epoch: 1550, Loss: 0.06170344352722168, \n",
            "Epoch: 1600, Loss: 0.12412387132644653, \n",
            "Epoch: 1650, Loss: 0.21269512176513672, \n",
            "Epoch: 1700, Loss: 0.23251807689666748, \n",
            "Epoch: 1750, Loss: 0.05246138572692871, \n",
            "Epoch: 1800, Loss: 0.13438475131988525, \n",
            "Epoch: 1850, Loss: 0.2641855478286743, \n",
            "Epoch: 1900, Loss: 0.29968175292015076, \n",
            "Epoch: 1950, Loss: 0.046691566705703735, \n",
            "Epoch: 2000, Loss: 0.0053359270095825195, \n"
          ]
        }
      ]
    },
    {
      "cell_type": "code",
      "metadata": {
        "id": "QV0dIdveyCRi"
      },
      "source": [
        ""
      ],
      "execution_count": null,
      "outputs": []
    }
  ]
}